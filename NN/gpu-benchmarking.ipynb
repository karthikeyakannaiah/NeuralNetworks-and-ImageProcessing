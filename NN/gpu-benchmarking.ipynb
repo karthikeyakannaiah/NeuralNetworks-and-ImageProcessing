{
 "cells": [
  {
   "cell_type": "code",
   "execution_count": 1,
   "metadata": {},
   "outputs": [
    {
     "name": "stderr",
     "output_type": "stream",
     "text": [
      "2022-10-24 16:23:03.280336: I tensorflow/core/platform/cpu_feature_guard.cc:193] This TensorFlow binary is optimized with oneAPI Deep Neural Network Library (oneDNN) to use the following CPU instructions in performance-critical operations:  AVX2 FMA\n",
      "To enable them in other operations, rebuild TensorFlow with the appropriate compiler flags.\n",
      "2022-10-24 16:23:03.449900: W tensorflow/stream_executor/platform/default/dso_loader.cc:64] Could not load dynamic library 'libcudart.so.11.0'; dlerror: libcudart.so.11.0: cannot open shared object file: No such file or directory\n",
      "2022-10-24 16:23:03.449929: I tensorflow/stream_executor/cuda/cudart_stub.cc:29] Ignore above cudart dlerror if you do not have a GPU set up on your machine.\n",
      "2022-10-24 16:23:03.481519: E tensorflow/stream_executor/cuda/cuda_blas.cc:2981] Unable to register cuBLAS factory: Attempting to register factory for plugin cuBLAS when one has already been registered\n",
      "2022-10-24 16:23:05.631186: W tensorflow/stream_executor/platform/default/dso_loader.cc:64] Could not load dynamic library 'libnvinfer.so.7'; dlerror: libnvinfer.so.7: cannot open shared object file: No such file or directory\n",
      "2022-10-24 16:23:05.631271: W tensorflow/stream_executor/platform/default/dso_loader.cc:64] Could not load dynamic library 'libnvinfer_plugin.so.7'; dlerror: libnvinfer_plugin.so.7: cannot open shared object file: No such file or directory\n",
      "2022-10-24 16:23:05.631281: W tensorflow/compiler/tf2tensorrt/utils/py_utils.cc:38] TF-TRT Warning: Cannot dlopen some TensorRT libraries. If you would like to use Nvidia GPU with TensorRT, please make sure the missing libraries mentioned above are installed properly.\n"
     ]
    }
   ],
   "source": [
    "import tensorflow as tf\n",
    "from tensorflow import keras\n",
    "import matplotlib.pyplot as plt\n",
    "import numpy as np"
   ]
  },
  {
   "cell_type": "code",
   "execution_count": 2,
   "metadata": {},
   "outputs": [
    {
     "name": "stderr",
     "output_type": "stream",
     "text": [
      "2022-10-24 16:23:19.148759: W tensorflow/stream_executor/platform/default/dso_loader.cc:64] Could not load dynamic library 'libcuda.so.1'; dlerror: libcuda.so.1: cannot open shared object file: No such file or directory\n",
      "2022-10-24 16:23:19.195989: W tensorflow/stream_executor/cuda/cuda_driver.cc:263] failed call to cuInit: UNKNOWN ERROR (303)\n",
      "2022-10-24 16:23:19.196094: I tensorflow/stream_executor/cuda/cuda_diagnostics.cc:156] kernel driver does not appear to be running on this host (karthikeya): /proc/driver/nvidia/version does not exist\n"
     ]
    },
    {
     "data": {
      "text/plain": [
       "[PhysicalDevice(name='/physical_device:CPU:0', device_type='CPU')]"
      ]
     },
     "execution_count": 2,
     "metadata": {},
     "output_type": "execute_result"
    }
   ],
   "source": [
    "tf.config.experimental.list_physical_devices()"
   ]
  },
  {
   "cell_type": "code",
   "execution_count": 4,
   "metadata": {},
   "outputs": [
    {
     "data": {
      "text/plain": [
       "True"
      ]
     },
     "execution_count": 4,
     "metadata": {},
     "output_type": "execute_result"
    }
   ],
   "source": [
    "tf.test.is_built_with_cuda()"
   ]
  },
  {
   "cell_type": "code",
   "execution_count": 7,
   "metadata": {},
   "outputs": [
    {
     "name": "stdout",
     "output_type": "stream",
     "text": [
      "Downloading data from https://www.cs.toronto.edu/~kriz/cifar-10-python.tar.gz\n",
      "170498071/170498071 [==============================] - 641s 4us/step\n"
     ]
    }
   ],
   "source": [
    "(X_train, y_train), (X_test, y_test) = keras.datasets.cifar10.load_data()"
   ]
  },
  {
   "cell_type": "code",
   "execution_count": 13,
   "metadata": {},
   "outputs": [
    {
     "name": "stdout",
     "output_type": "stream",
     "text": [
      "(50000, 32, 32, 3) (10000, 32, 32, 3) (50000, 1) (10000, 1)\n"
     ]
    }
   ],
   "source": [
    "print(X_train.shape, X_test.shape, y_train.shape, y_test.shape)"
   ]
  },
  {
   "cell_type": "code",
   "execution_count": 21,
   "metadata": {},
   "outputs": [
    {
     "data": {
      "text/plain": [
       "<matplotlib.image.AxesImage at 0x7feca99e66e0>"
      ]
     },
     "execution_count": 21,
     "metadata": {},
     "output_type": "execute_result"
    },
    {
     "data": {
      "image/png": "[encoded data removed]",
      "text/plain": [
       "<Figure size 1000x100 with 1 Axes>"
      ]
     },
     "metadata": {},
     "output_type": "display_data"
    }
   ],
   "source": [
    "plt.figure(figsize=(10,1))\n",
    "plt.imshow(X_train[3])"
   ]
  },
  {
   "cell_type": "code",
   "execution_count": 16,
   "metadata": {},
   "outputs": [],
   "source": [
    "classes=['airplane','automobile','bird','cat','deer','dog','frog','horse','ship','truck']"
   ]
  },
  {
   "cell_type": "code",
   "execution_count": 20,
   "metadata": {},
   "outputs": [
    {
     "data": {
      "text/plain": [
       "'deer'"
      ]
     },
     "execution_count": 20,
     "metadata": {},
     "output_type": "execute_result"
    }
   ],
   "source": [
    "classes[y_train[3][0]]"
   ]
  },
  {
   "cell_type": "code",
   "execution_count": 23,
   "metadata": {},
   "outputs": [],
   "source": [
    "X_train_scaled = X_train/255\n",
    "X_test_scaled = X_test/255"
   ]
  },
  {
   "cell_type": "code",
   "execution_count": 29,
   "metadata": {},
   "outputs": [
    {
     "data": {
      "text/plain": [
       "array([[0., 0., 0., 0., 0., 0., 1., 0., 0., 0.],\n",
       "       [0., 0., 0., 0., 0., 0., 0., 0., 0., 1.],\n",
       "       [0., 0., 0., 0., 0., 0., 0., 0., 0., 1.],\n",
       "       [0., 0., 0., 0., 1., 0., 0., 0., 0., 0.],\n",
       "       [0., 1., 0., 0., 0., 0., 0., 0., 0., 0.]], dtype=float32)"
      ]
     },
     "execution_count": 29,
     "metadata": {},
     "output_type": "execute_result"
    }
   ],
   "source": [
    "y_train_categorical = keras.utils.to_categorical(\n",
    "    y_train, num_classes=10, dtype='float32'\n",
    ")\n",
    "y_test_categorical = keras.utils.to_categorical(\n",
    "    y_test, num_classes=10, dtype='float32'\n",
    ")\n",
    "y_train_categorical[:5]"
   ]
  },
  {
   "cell_type": "code",
   "execution_count": 25,
   "metadata": {},
   "outputs": [
    {
     "data": {
      "text/plain": [
       "(50000, 32, 32, 3)"
      ]
     },
     "execution_count": 25,
     "metadata": {},
     "output_type": "execute_result"
    }
   ],
   "source": [
    "X_train.shape"
   ]
  },
  {
   "cell_type": "code",
   "execution_count": 26,
   "metadata": {},
   "outputs": [
    {
     "data": {
      "text/plain": [
       "3072"
      ]
     },
     "execution_count": 26,
     "metadata": {},
     "output_type": "execute_result"
    }
   ],
   "source": [
    "32*32*3"
   ]
  },
  {
   "cell_type": "code",
   "execution_count": 27,
   "metadata": {},
   "outputs": [
    {
     "name": "stderr",
     "output_type": "stream",
     "text": [
      "2022-10-24 18:31:13.288659: I tensorflow/core/platform/cpu_feature_guard.cc:193] This TensorFlow binary is optimized with oneAPI Deep Neural Network Library (oneDNN) to use the following CPU instructions in performance-critical operations:  AVX2 FMA\n",
      "To enable them in other operations, rebuild TensorFlow with the appropriate compiler flags.\n",
      "2022-10-24 18:31:22.229554: W tensorflow/core/framework/cpu_allocator_impl.cc:82] Allocation of 614400000 exceeds 10% of free system memory.\n"
     ]
    },
    {
     "name": "stdout",
     "output_type": "stream",
     "text": [
      "Epoch 1/50\n",
      "1563/1563 [==============================] - 108s 67ms/step - loss: 1.8814 - accuracy: 0.3281\n",
      "Epoch 2/50\n",
      "1563/1563 [==============================] - 99s 63ms/step - loss: 1.6617 - accuracy: 0.4003\n",
      "Epoch 3/50\n",
      "1563/1563 [==============================] - 99s 64ms/step - loss: 1.5876 - accuracy: 0.4277\n",
      "Epoch 4/50\n",
      "1563/1563 [==============================] - 99s 63ms/step - loss: 1.5357 - accuracy: 0.4478\n",
      "Epoch 5/50\n",
      "1563/1563 [==============================] - 99s 64ms/step - loss: 1.4987 - accuracy: 0.4626\n",
      "Epoch 6/50\n",
      "1563/1563 [==============================] - 98s 63ms/step - loss: 1.4661 - accuracy: 0.4766\n",
      "Epoch 7/50\n",
      "1563/1563 [==============================] - 98s 63ms/step - loss: 1.4402 - accuracy: 0.4867\n",
      "Epoch 8/50\n",
      "1563/1563 [==============================] - 99s 63ms/step - loss: 1.4148 - accuracy: 0.4913\n",
      "Epoch 9/50\n",
      "1563/1563 [==============================] - 99s 63ms/step - loss: 1.3926 - accuracy: 0.4998\n",
      "Epoch 10/50\n",
      "1563/1563 [==============================] - 99s 64ms/step - loss: 1.3736 - accuracy: 0.5075\n",
      "Epoch 11/50\n",
      "1563/1563 [==============================] - 100s 64ms/step - loss: 1.3598 - accuracy: 0.5135\n",
      "Epoch 12/50\n",
      "1563/1563 [==============================] - 100s 64ms/step - loss: 1.3419 - accuracy: 0.5186\n",
      "Epoch 13/50\n",
      "1563/1563 [==============================] - 100s 64ms/step - loss: 1.3275 - accuracy: 0.5229\n",
      "Epoch 14/50\n",
      "1563/1563 [==============================] - 101s 64ms/step - loss: 1.3076 - accuracy: 0.5303\n",
      "Epoch 15/50\n",
      "1563/1563 [==============================] - 101s 65ms/step - loss: 1.2962 - accuracy: 0.5336\n",
      "Epoch 16/50\n",
      "1563/1563 [==============================] - 101s 65ms/step - loss: 1.2783 - accuracy: 0.5432\n",
      "Epoch 17/50\n",
      "1563/1563 [==============================] - 101s 64ms/step - loss: 1.2737 - accuracy: 0.5427\n",
      "Epoch 18/50\n",
      "1563/1563 [==============================] - 100s 64ms/step - loss: 1.2605 - accuracy: 0.5473\n",
      "Epoch 19/50\n",
      "1563/1563 [==============================] - 99s 63ms/step - loss: 1.2434 - accuracy: 0.5541\n",
      "Epoch 20/50\n",
      "1563/1563 [==============================] - 110s 71ms/step - loss: 1.2316 - accuracy: 0.5597\n",
      "Epoch 21/50\n",
      "1563/1563 [==============================] - 102s 65ms/step - loss: 1.2211 - accuracy: 0.5610\n",
      "Epoch 22/50\n",
      "1563/1563 [==============================] - 100s 64ms/step - loss: 1.2113 - accuracy: 0.5655\n",
      "Epoch 23/50\n",
      "1563/1563 [==============================] - 100s 64ms/step - loss: 1.2050 - accuracy: 0.5668\n",
      "Epoch 24/50\n",
      "1563/1563 [==============================] - 101s 64ms/step - loss: 1.1925 - accuracy: 0.5712\n",
      "Epoch 25/50\n",
      "1563/1563 [==============================] - 100s 64ms/step - loss: 1.1810 - accuracy: 0.5754\n",
      "Epoch 26/50\n",
      "1563/1563 [==============================] - 97s 62ms/step - loss: 1.1687 - accuracy: 0.5808\n",
      "Epoch 27/50\n",
      "1563/1563 [==============================] - 100s 64ms/step - loss: 1.1599 - accuracy: 0.5843\n",
      "Epoch 28/50\n",
      "1563/1563 [==============================] - 100s 64ms/step - loss: 1.1559 - accuracy: 0.5835\n",
      "Epoch 29/50\n",
      "1563/1563 [==============================] - 101s 64ms/step - loss: 1.1480 - accuracy: 0.5870\n",
      "Epoch 30/50\n",
      "1563/1563 [==============================] - 100s 64ms/step - loss: 1.1339 - accuracy: 0.5928\n",
      "Epoch 31/50\n",
      "1563/1563 [==============================] - 100s 64ms/step - loss: 1.1268 - accuracy: 0.5937\n",
      "Epoch 32/50\n",
      "1563/1563 [==============================] - 101s 65ms/step - loss: 1.1170 - accuracy: 0.5966\n",
      "Epoch 33/50\n",
      "1563/1563 [==============================] - 102s 65ms/step - loss: 1.1176 - accuracy: 0.5987\n",
      "Epoch 34/50\n",
      "1563/1563 [==============================] - 101s 65ms/step - loss: 1.1038 - accuracy: 0.6033\n",
      "Epoch 35/50\n",
      "1563/1563 [==============================] - 102s 65ms/step - loss: 1.0961 - accuracy: 0.6054\n",
      "Epoch 36/50\n",
      "1563/1563 [==============================] - 101s 65ms/step - loss: 1.0873 - accuracy: 0.6093\n",
      "Epoch 37/50\n",
      "1563/1563 [==============================] - 102s 65ms/step - loss: 1.0851 - accuracy: 0.6092\n",
      "Epoch 38/50\n",
      "1563/1563 [==============================] - 101s 65ms/step - loss: 1.0741 - accuracy: 0.6163\n",
      "Epoch 39/50\n",
      "1563/1563 [==============================] - 101s 65ms/step - loss: 1.0709 - accuracy: 0.6135\n",
      "Epoch 40/50\n",
      "1563/1563 [==============================] - 100s 64ms/step - loss: 1.0612 - accuracy: 0.6176\n",
      "Epoch 41/50\n",
      "1563/1563 [==============================] - 101s 65ms/step - loss: 1.0556 - accuracy: 0.6198\n",
      "Epoch 42/50\n",
      "1563/1563 [==============================] - 100s 64ms/step - loss: 1.0501 - accuracy: 0.6222\n",
      "Epoch 43/50\n",
      "1563/1563 [==============================] - 100s 64ms/step - loss: 1.0402 - accuracy: 0.6252\n",
      "Epoch 44/50\n",
      "1563/1563 [==============================] - 101s 65ms/step - loss: 1.0361 - accuracy: 0.6259\n",
      "Epoch 45/50\n",
      "1563/1563 [==============================] - 100s 64ms/step - loss: 1.0334 - accuracy: 0.6264\n",
      "Epoch 46/50\n",
      "1563/1563 [==============================] - 101s 65ms/step - loss: 1.0254 - accuracy: 0.6298\n",
      "Epoch 47/50\n",
      "1563/1563 [==============================] - 101s 65ms/step - loss: 1.0223 - accuracy: 0.6338\n",
      "Epoch 48/50\n",
      "1563/1563 [==============================] - 101s 65ms/step - loss: 1.0146 - accuracy: 0.6342\n",
      "Epoch 49/50\n",
      "1563/1563 [==============================] - 101s 65ms/step - loss: 1.0114 - accuracy: 0.6354\n",
      "Epoch 50/50\n",
      "1563/1563 [==============================] - 101s 65ms/step - loss: 1.0071 - accuracy: 0.6375\n"
     ]
    },
    {
     "data": {
      "text/plain": [
       "<keras.callbacks.History at 0x7feca998cf10>"
      ]
     },
     "execution_count": 27,
     "metadata": {},
     "output_type": "execute_result"
    }
   ],
   "source": [
    "model = keras.Sequential([\n",
    "    keras.layers.Flatten(input_shape=(32,32,3)),\n",
    "    keras.layers.Dense(3000, activation='relu'),\n",
    "    keras.layers.Dense(1000, activation='relu'),\n",
    "    keras.layers.Dense(10, activation='sigmoid')\n",
    "])\n",
    "# use 'SGD' next tiem\n",
    "model.compile(\n",
    "    optimizer='adam',\n",
    "    loss='categorical_crossentropy',\n",
    "    metrics=['accuracy']\n",
    ")\n",
    "\n",
    "model.fit(X_train_scaled,y_train_categorical, epochs=50)"
   ]
  },
  {
   "cell_type": "code",
   "execution_count": 30,
   "metadata": {},
   "outputs": [
    {
     "name": "stdout",
     "output_type": "stream",
     "text": [
      "  1/313 [..............................] - ETA: 44s - loss: 2.0117 - accuracy: 0.4375"
     ]
    },
    {
     "name": "stderr",
     "output_type": "stream",
     "text": [
      "2022-10-24 19:57:00.265833: W tensorflow/core/framework/cpu_allocator_impl.cc:82] Allocation of 122880000 exceeds 10% of free system memory.\n"
     ]
    },
    {
     "name": "stdout",
     "output_type": "stream",
     "text": [
      "313/313 [==============================] - 4s 11ms/step - loss: 1.9026 - accuracy: 0.4762\n"
     ]
    },
    {
     "data": {
      "text/plain": [
       "[1.9025784730911255, 0.47620001435279846]"
      ]
     },
     "execution_count": 30,
     "metadata": {},
     "output_type": "execute_result"
    }
   ],
   "source": [
    "model.evaluate(X_test_scaled, y_test_categorical)"
   ]
  },
  {
   "cell_type": "code",
   "execution_count": 31,
   "metadata": {},
   "outputs": [],
   "source": [
    "def get_model():\n",
    "    model = keras.Sequential([\n",
    "        keras.layers.Flatten(input_shape=(32,32,3)),\n",
    "        keras.layers.Dense(3000, activation='relu'),\n",
    "        keras.layers.Dense(1000, activation='relu'),\n",
    "        keras.layers.Dense(10, activation='sigmoid')\n",
    "    ])\n",
    "    # use 'SGD' next tiem\n",
    "    model.compile(\n",
    "        optimizer='SGD',\n",
    "        loss='categorical_crossentropy',\n",
    "        metrics=['accuracy']\n",
    "    )\n",
    "\n",
    "    return model"
   ]
  },
  {
   "cell_type": "code",
   "execution_count": 32,
   "metadata": {},
   "outputs": [
    {
     "data": {
      "text/plain": [
       "[PhysicalDevice(name='/physical_device:CPU:0', device_type='CPU')]"
      ]
     },
     "execution_count": 32,
     "metadata": {},
     "output_type": "execute_result"
    }
   ],
   "source": [
    "tf.config.experimental.list_physical_devices()"
   ]
  },
  {
   "cell_type": "code",
   "execution_count": 33,
   "metadata": {},
   "outputs": [
    {
     "name": "stderr",
     "output_type": "stream",
     "text": [
      "2022-10-24 20:10:10.800225: W tensorflow/core/framework/cpu_allocator_impl.cc:82] Allocation of 614400000 exceeds 10% of free system memory.\n"
     ]
    },
    {
     "name": "stdout",
     "output_type": "stream",
     "text": [
      "1563/1563 [==============================] - 114s 70ms/step - loss: 1.8976 - accuracy: 0.3269\n"
     ]
    }
   ],
   "source": [
    "%%timeit -n1 -r1\n",
    "with tf.device('/CPU:0'):\n",
    "    cpu_model = get_model()\n",
    "    cpu_model.fit(X_train_scaled,y_train_categorical, epochs=1)"
   ]
  },
  {
   "cell_type": "code",
   "execution_count": null,
   "metadata": {},
   "outputs": [],
   "source": [
    "# try it if you have a gpu\n",
    "%%timeit -n1 -r1\n",
    "with tf.device('/GPU:0'):\n",
    "    cpu_model = get_model()\n",
    "    cpu_model.fit(X_train_scaled,y_train_categorical, epochs=1)"
   ]
  }
 ],
 "metadata": {
  "kernelspec": {
   "display_name": "Python 3.10.6 ('ML-projects')",
   "language": "python",
   "name": "python3"
  },
  "language_info": {
   "codemirror_mode": {
    "name": "ipython",
    "version": 3
   },
   "file_extension": ".py",
   "mimetype": "text/x-python",
   "name": "python",
   "nbconvert_exporter": "python",
   "pygments_lexer": "ipython3",
   "version": "3.10.6"
  },
  "orig_nbformat": 4,
  "vscode": {
   "interpreter": {
    "hash": "a6bbf90d6f54b643658b03f8dd324b7c374f3b85b6ca7d6caf20627e9bc767ab"
   }
  }
 },
 "nbformat": 4,
 "nbformat_minor": 2
}
